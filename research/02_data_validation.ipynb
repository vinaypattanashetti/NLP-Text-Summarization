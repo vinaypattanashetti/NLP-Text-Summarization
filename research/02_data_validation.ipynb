{
 "cells": [
  {
   "cell_type": "code",
   "execution_count": 1,
   "metadata": {},
   "outputs": [],
   "source": [
    "import os"
   ]
  },
  {
   "cell_type": "code",
   "execution_count": 2,
   "metadata": {},
   "outputs": [
    {
     "data": {
      "text/plain": [
       "'c:\\\\Users\\\\Vinay Pattanashetti\\\\git_repos\\\\NLP-text-summarization\\\\NLP-Text-Summarization\\\\research'"
      ]
     },
     "execution_count": 2,
     "metadata": {},
     "output_type": "execute_result"
    }
   ],
   "source": [
    "%pwd"
   ]
  },
  {
   "cell_type": "code",
   "execution_count": 3,
   "metadata": {},
   "outputs": [],
   "source": [
    "os.chdir(\"../\")"
   ]
  },
  {
   "cell_type": "code",
   "execution_count": 4,
   "metadata": {},
   "outputs": [
    {
     "data": {
      "text/plain": [
       "'c:\\\\Users\\\\Vinay Pattanashetti\\\\git_repos\\\\NLP-text-summarization\\\\NLP-Text-Summarization'"
      ]
     },
     "execution_count": 4,
     "metadata": {},
     "output_type": "execute_result"
    }
   ],
   "source": [
    "%pwd"
   ]
  },
  {
   "cell_type": "code",
   "execution_count": 6,
   "metadata": {},
   "outputs": [],
   "source": [
    "# Create the entity\n",
    "from dataclasses import dataclass\n",
    "from pathlib import Path\n",
    "\n",
    "@dataclass(frozen=True)\n",
    "class DataValidationConfig:\n",
    "    root_dir: Path\n",
    "    STATUS_FILE: str\n",
    "    ALL_REQUIRED_FILES: list\n"
   ]
  },
  {
   "cell_type": "code",
   "execution_count": 7,
   "metadata": {},
   "outputs": [],
   "source": [
    "from textsummarization.constants import *\n",
    "from textsummarization.utils.common import read_yaml, create_directories"
   ]
  },
  {
   "cell_type": "code",
   "execution_count": 8,
   "metadata": {},
   "outputs": [],
   "source": [
    "class ConfigurationManager:\n",
    "    def __init__(\n",
    "            self,\n",
    "            config_filepath= CONFIG_FILE_PATH,\n",
    "            params_filepath= PARAMS_FILE_PATH):\n",
    "        \n",
    "            self.config = read_yaml(config_filepath)\n",
    "            self.params = read_yaml(params_filepath)\n",
    "        \n",
    "            create_directories([self.config.artifacts_root])\n",
    "\n",
    "    def get_data_validation_config(self) -> DataValidationConfig:\n",
    "        config = self.config.data_validation\n",
    "        \n",
    "        create_directories([config.root_dir])\n",
    "\n",
    "        data_validation_config = DataValidationConfig(\n",
    "            root_dir= config.root_dir,\n",
    "            STATUS_FILE= config.STATUS_FILE,\n",
    "            ALL_REQUIRED_FILES= config.ALL_REQUIRED_FILES,\n",
    "        )\n",
    "        return data_validation_config\n"
   ]
  },
  {
   "cell_type": "code",
   "execution_count": 9,
   "metadata": {},
   "outputs": [],
   "source": [
    "import os\n",
    "from textsummarization.logging import logger"
   ]
  },
  {
   "cell_type": "code",
   "execution_count": 10,
   "metadata": {},
   "outputs": [],
   "source": [
    "class DataValidation:\n",
    "    def __init__(self, config: DataValidationConfig):\n",
    "        self.config = config\n",
    "\n",
    "    def validate_all_files_exist(self)-> bool:\n",
    "        try:\n",
    "            validation_status = None\n",
    "\n",
    "            all_files = os.listdir(os.path.join(\"artifacts\", \"data_ingestion\",\"summarizer-data\" \"samsum_dataset\"))\n",
    "\n",
    "            for file in all_files:\n",
    "                if file not in self.config.ALL_REQUIRED_FILES:\n",
    "                    validation_status = False\n",
    "                    with open(self.config.STATUS_FILE,'w') as f:\n",
    "                        f.write(f\"Validation status: {validation_status}\")\n",
    "\n",
    "                else:\n",
    "                    validation_status = True\n",
    "                    with open(self.config.STATUS_FILE,'w') as f:\n",
    "                        f.write(f\"Validation status: {validation_status}\")\n",
    "            \n",
    "            return validation_status\n",
    "        except Exception as e:\n",
    "            raise"
   ]
  },
  {
   "cell_type": "code",
   "execution_count": 11,
   "metadata": {},
   "outputs": [
    {
     "name": "stdout",
     "output_type": "stream",
     "text": [
      "[{'name': 'textsummarizationLogger', 'msg': 'yaml file:config\\\\config.yamlloaded successfully', 'args': (), 'levelname': 'INFO', 'levelno': 20, 'pathname': 'c:\\\\users\\\\vinay pattanashetti\\\\git_repos\\\\nlp-text-summarization\\\\nlp-text-summarization\\\\src\\\\textsummarization\\\\utils\\\\common.py', 'filename': 'common.py', 'module': 'common', 'exc_info': None, 'exc_text': None, 'stack_info': None, 'lineno': 32, 'funcName': 'read_yaml', 'created': 1718775755.1468174, 'msecs': 146.81744575500488, 'relativeCreated': 3533662.9478931427, 'thread': 27840, 'threadName': 'MainThread', 'processName': 'MainProcess', 'process': 11832, 'message': 'yaml file:config\\\\config.yamlloaded successfully'}sctime]s:INFO:yaml file:config\\config.yamlloaded successfully]\n",
      "[{'name': 'textsummarizationLogger', 'msg': 'yaml file:params.yamlloaded successfully', 'args': (), 'levelname': 'INFO', 'levelno': 20, 'pathname': 'c:\\\\users\\\\vinay pattanashetti\\\\git_repos\\\\nlp-text-summarization\\\\nlp-text-summarization\\\\src\\\\textsummarization\\\\utils\\\\common.py', 'filename': 'common.py', 'module': 'common', 'exc_info': None, 'exc_text': None, 'stack_info': None, 'lineno': 32, 'funcName': 'read_yaml', 'created': 1718775755.1534612, 'msecs': 153.46121788024902, 'relativeCreated': 3533669.591665268, 'thread': 27840, 'threadName': 'MainThread', 'processName': 'MainProcess', 'process': 11832, 'message': 'yaml file:params.yamlloaded successfully'}sctime]s:INFO:yaml file:params.yamlloaded successfully]\n",
      "[{'name': 'textsummarizationLogger', 'msg': 'Created directory: artifactsfor the file', 'args': (), 'levelname': 'INFO', 'levelno': 20, 'pathname': 'c:\\\\users\\\\vinay pattanashetti\\\\git_repos\\\\nlp-text-summarization\\\\nlp-text-summarization\\\\src\\\\textsummarization\\\\utils\\\\common.py', 'filename': 'common.py', 'module': 'common', 'exc_info': None, 'exc_text': None, 'stack_info': None, 'lineno': 50, 'funcName': 'create_directories', 'created': 1718775755.1554983, 'msecs': 155.49826622009277, 'relativeCreated': 3533671.628713608, 'thread': 27840, 'threadName': 'MainThread', 'processName': 'MainProcess', 'process': 11832, 'message': 'Created directory: artifactsfor the file'}sctime]s:INFO:Created directory: artifactsfor the file]\n",
      "[{'name': 'textsummarizationLogger', 'msg': 'Created directory: artifacts/data_validationfor the file', 'args': (), 'levelname': 'INFO', 'levelno': 20, 'pathname': 'c:\\\\users\\\\vinay pattanashetti\\\\git_repos\\\\nlp-text-summarization\\\\nlp-text-summarization\\\\src\\\\textsummarization\\\\utils\\\\common.py', 'filename': 'common.py', 'module': 'common', 'exc_info': None, 'exc_text': None, 'stack_info': None, 'lineno': 50, 'funcName': 'create_directories', 'created': 1718775755.1554983, 'msecs': 155.49826622009277, 'relativeCreated': 3533671.628713608, 'thread': 27840, 'threadName': 'MainThread', 'processName': 'MainProcess', 'process': 11832, 'message': 'Created directory: artifacts/data_validationfor the file'}sctime]s:INFO:Created directory: artifacts/data_validationfor the file]\n"
     ]
    },
    {
     "ename": "FileNotFoundError",
     "evalue": "[WinError 3] The system cannot find the path specified: 'artifacts\\\\data_ingestion\\\\samsum_dataset'",
     "output_type": "error",
     "traceback": [
      "\u001b[1;31m---------------------------------------------------------------------------\u001b[0m",
      "\u001b[1;31mFileNotFoundError\u001b[0m                         Traceback (most recent call last)",
      "Cell \u001b[1;32mIn[11], line 8\u001b[0m\n\u001b[0;32m      6\u001b[0m         data_validation\u001b[38;5;241m.\u001b[39mvalidate_all_files_exist()\n\u001b[0;32m      7\u001b[0m \u001b[38;5;28;01mexcept\u001b[39;00m \u001b[38;5;167;01mException\u001b[39;00m \u001b[38;5;28;01mas\u001b[39;00m e:\n\u001b[1;32m----> 8\u001b[0m         \u001b[38;5;28;01mraise\u001b[39;00m e\n",
      "Cell \u001b[1;32mIn[11], line 6\u001b[0m\n\u001b[0;32m      4\u001b[0m         data_validation_config \u001b[38;5;241m=\u001b[39m config\u001b[38;5;241m.\u001b[39mget_data_validation_config()\n\u001b[0;32m      5\u001b[0m         data_validation \u001b[38;5;241m=\u001b[39m DataValidation(config\u001b[38;5;241m=\u001b[39mdata_validation_config)\n\u001b[1;32m----> 6\u001b[0m         \u001b[43mdata_validation\u001b[49m\u001b[38;5;241;43m.\u001b[39;49m\u001b[43mvalidate_all_files_exist\u001b[49m\u001b[43m(\u001b[49m\u001b[43m)\u001b[49m\n\u001b[0;32m      7\u001b[0m \u001b[38;5;28;01mexcept\u001b[39;00m \u001b[38;5;167;01mException\u001b[39;00m \u001b[38;5;28;01mas\u001b[39;00m e:\n\u001b[0;32m      8\u001b[0m         \u001b[38;5;28;01mraise\u001b[39;00m e\n",
      "Cell \u001b[1;32mIn[10], line 9\u001b[0m, in \u001b[0;36mDataValidation.validate_all_files_exist\u001b[1;34m(self)\u001b[0m\n\u001b[0;32m      6\u001b[0m \u001b[38;5;28;01mtry\u001b[39;00m:\n\u001b[0;32m      7\u001b[0m     validation_status \u001b[38;5;241m=\u001b[39m \u001b[38;5;28;01mNone\u001b[39;00m\n\u001b[1;32m----> 9\u001b[0m     all_files \u001b[38;5;241m=\u001b[39m \u001b[43mos\u001b[49m\u001b[38;5;241;43m.\u001b[39;49m\u001b[43mlistdir\u001b[49m\u001b[43m(\u001b[49m\u001b[43mos\u001b[49m\u001b[38;5;241;43m.\u001b[39;49m\u001b[43mpath\u001b[49m\u001b[38;5;241;43m.\u001b[39;49m\u001b[43mjoin\u001b[49m\u001b[43m(\u001b[49m\u001b[38;5;124;43m\"\u001b[39;49m\u001b[38;5;124;43martifacts\u001b[39;49m\u001b[38;5;124;43m\"\u001b[39;49m\u001b[43m,\u001b[49m\u001b[43m \u001b[49m\u001b[38;5;124;43m\"\u001b[39;49m\u001b[38;5;124;43mdata_ingestion\u001b[39;49m\u001b[38;5;124;43m\"\u001b[39;49m\u001b[43m,\u001b[49m\u001b[43m \u001b[49m\u001b[38;5;124;43m\"\u001b[39;49m\u001b[38;5;124;43msamsum_dataset\u001b[39;49m\u001b[38;5;124;43m\"\u001b[39;49m\u001b[43m)\u001b[49m\u001b[43m)\u001b[49m\n\u001b[0;32m     11\u001b[0m     \u001b[38;5;28;01mfor\u001b[39;00m file \u001b[38;5;129;01min\u001b[39;00m all_files:\n\u001b[0;32m     12\u001b[0m         \u001b[38;5;28;01mif\u001b[39;00m file \u001b[38;5;129;01mnot\u001b[39;00m \u001b[38;5;129;01min\u001b[39;00m \u001b[38;5;28mself\u001b[39m\u001b[38;5;241m.\u001b[39mconfig\u001b[38;5;241m.\u001b[39mALL_REQUIRED_FILES:\n",
      "\u001b[1;31mFileNotFoundError\u001b[0m: [WinError 3] The system cannot find the path specified: 'artifacts\\\\data_ingestion\\\\samsum_dataset'"
     ]
    }
   ],
   "source": [
    "if __name__ == \"__main__\":\n",
    "        try:\n",
    "                config = ConfigurationManager()\n",
    "                data_validation_config = config.get_data_validation_config()\n",
    "                data_validation = DataValidation(config=data_validation_config)\n",
    "                data_validation.validate_all_files_exist()\n",
    "        except Exception as e:\n",
    "                raise e"
   ]
  }
 ],
 "metadata": {
  "kernelspec": {
   "display_name": "cds-datamites",
   "language": "python",
   "name": "python3"
  },
  "language_info": {
   "codemirror_mode": {
    "name": "ipython",
    "version": 3
   },
   "file_extension": ".py",
   "mimetype": "text/x-python",
   "name": "python",
   "nbconvert_exporter": "python",
   "pygments_lexer": "ipython3",
   "version": "3.9.16"
  }
 },
 "nbformat": 4,
 "nbformat_minor": 2
}
