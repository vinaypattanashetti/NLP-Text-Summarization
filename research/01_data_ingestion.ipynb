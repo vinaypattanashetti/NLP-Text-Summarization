{
 "cells": [
  {
   "cell_type": "code",
   "execution_count": 1,
   "metadata": {},
   "outputs": [],
   "source": [
    "import os"
   ]
  },
  {
   "cell_type": "code",
   "execution_count": 2,
   "metadata": {},
   "outputs": [
    {
     "data": {
      "text/plain": [
       "'c:\\\\Users\\\\Vinay Pattanashetti\\\\git_repos\\\\NLP-text-summarization\\\\NLP-Text-Summarization\\\\research'"
      ]
     },
     "execution_count": 2,
     "metadata": {},
     "output_type": "execute_result"
    }
   ],
   "source": [
    "%pwd"
   ]
  },
  {
   "cell_type": "code",
   "execution_count": 3,
   "metadata": {},
   "outputs": [],
   "source": [
    "os.chdir(\"../\")"
   ]
  },
  {
   "cell_type": "code",
   "execution_count": 4,
   "metadata": {},
   "outputs": [
    {
     "data": {
      "text/plain": [
       "'c:\\\\Users\\\\Vinay Pattanashetti\\\\git_repos\\\\NLP-text-summarization\\\\NLP-Text-Summarization'"
      ]
     },
     "execution_count": 4,
     "metadata": {},
     "output_type": "execute_result"
    }
   ],
   "source": [
    "%pwd"
   ]
  },
  {
   "cell_type": "code",
   "execution_count": 5,
   "metadata": {},
   "outputs": [],
   "source": [
    "from dataclasses import dataclass\n",
    "from pathlib import Path\n",
    "\n",
    "# Entity-Return type of a fuction from data_ingestion\n",
    "@dataclass(frozen=True)\n",
    "class DataIngestionConfig:\n",
    "    root_dir: Path\n",
    "    source_URL: str\n",
    "    local_data_file: Path\n",
    "    unzip_dir: Path"
   ]
  },
  {
   "cell_type": "code",
   "execution_count": 6,
   "metadata": {},
   "outputs": [],
   "source": [
    "from textsummarization.constants import *\n",
    "from textsummarization.utils.common import read_yaml, create_directories"
   ]
  },
  {
   "cell_type": "code",
   "execution_count": 7,
   "metadata": {},
   "outputs": [],
   "source": [
    "class ConfigurationManager:\n",
    "    def __init__(\n",
    "            self,\n",
    "            config_filepath= CONFIG_FILE_PATH,\n",
    "            params_filepath= PARAMS_FILE_PATH):\n",
    "        \n",
    "        self.config = read_yaml(config_filepath)\n",
    "        self.params = read_yaml(params_filepath)\n",
    "        \n",
    "        create_directories([self.config.artifacts_root])\n",
    "\n",
    "    def get_data_ingestion_config(self) -> DataIngestionConfig:\n",
    "        config = self.config.data_ingestion\n",
    "\n",
    "        create_directories([config.root_dir])\n",
    "\n",
    "        data_ingestion_config = DataIngestionConfig(\n",
    "            root_dir= config.root_dir,\n",
    "            source_URL= config.source_URL,\n",
    "            local_data_file= config.local_data_file,\n",
    "            unzip_dir= config.unzip_dir,\n",
    "        )\n",
    "        return data_ingestion_config"
   ]
  },
  {
   "cell_type": "code",
   "execution_count": 8,
   "metadata": {},
   "outputs": [],
   "source": [
    "import os\n",
    "import urllib.request as request\n",
    "import zipfile\n",
    "from textsummarization.logging import logger\n",
    "from textsummarization.utils.common import get_size"
   ]
  },
  {
   "cell_type": "code",
   "execution_count": 9,
   "metadata": {},
   "outputs": [],
   "source": [
    "class DataIngestion:\n",
    "    def __init__(self, config: DataIngestionConfig):\n",
    "        self.config = config\n",
    "\n",
    "    def download_file(self):\n",
    "        if not os.path.exists(self.config.local_data_file):\n",
    "            filename, headers = request.urlretrieve(\n",
    "                url = self.config.source_URL,\n",
    "                filename = self.config.local_data_file\n",
    "        )\n",
    "            logger.info(f\"{filename}download! with following info \\n{headers}\")\n",
    "        else:\n",
    "            logger.info(f\"File already exists of sizes: {get_size(Path(self.config.local_data_file))}\")\n",
    "    \n",
    "    def extract_zip_file(self):\n",
    "        \"\"\"\n",
    "        zip_file_path: str\n",
    "        Extracts the zip file into the given data directory\n",
    "        function return none\n",
    "        \"\"\"\n",
    "        unzip_path = self.config.unzip_dir\n",
    "        os.makedirs(unzip_path, exist_ok=True)\n",
    "        with zipfile.ZipFile(self.config.local_data_file, 'r') as zip_ref:\n",
    "            zip_ref.extractall(unzip_path)"
   ]
  },
  {
   "cell_type": "code",
   "execution_count": 11,
   "metadata": {},
   "outputs": [
    {
     "name": "stdout",
     "output_type": "stream",
     "text": [
      "[{'name': 'textsummarizationLogger', 'msg': 'yaml file:config\\\\config.yamlloaded successfully', 'args': (), 'levelname': 'INFO', 'levelno': 20, 'pathname': 'c:\\\\users\\\\vinay pattanashetti\\\\git_repos\\\\nlp-text-summarization\\\\nlp-text-summarization\\\\src\\\\textsummarization\\\\utils\\\\common.py', 'filename': 'common.py', 'module': 'common', 'exc_info': None, 'exc_text': None, 'stack_info': None, 'lineno': 32, 'funcName': 'read_yaml', 'created': 1718659449.785423, 'msecs': 785.4230403900146, 'relativeCreated': 140305.4177761078, 'thread': 18308, 'threadName': 'MainThread', 'processName': 'MainProcess', 'process': 18292, 'message': 'yaml file:config\\\\config.yamlloaded successfully'}sctime]s:INFO:yaml file:config\\config.yamlloaded successfully]\n",
      "[{'name': 'textsummarizationLogger', 'msg': 'yaml file:params.yamlloaded successfully', 'args': (), 'levelname': 'INFO', 'levelno': 20, 'pathname': 'c:\\\\users\\\\vinay pattanashetti\\\\git_repos\\\\nlp-text-summarization\\\\nlp-text-summarization\\\\src\\\\textsummarization\\\\utils\\\\common.py', 'filename': 'common.py', 'module': 'common', 'exc_info': None, 'exc_text': None, 'stack_info': None, 'lineno': 32, 'funcName': 'read_yaml', 'created': 1718659449.787461, 'msecs': 787.4610424041748, 'relativeCreated': 140307.45577812195, 'thread': 18308, 'threadName': 'MainThread', 'processName': 'MainProcess', 'process': 18292, 'message': 'yaml file:params.yamlloaded successfully'}sctime]s:INFO:yaml file:params.yamlloaded successfully]\n",
      "[{'name': 'textsummarizationLogger', 'msg': 'Created directory: artifactsfor the file', 'args': (), 'levelname': 'INFO', 'levelno': 20, 'pathname': 'c:\\\\users\\\\vinay pattanashetti\\\\git_repos\\\\nlp-text-summarization\\\\nlp-text-summarization\\\\src\\\\textsummarization\\\\utils\\\\common.py', 'filename': 'common.py', 'module': 'common', 'exc_info': None, 'exc_text': None, 'stack_info': None, 'lineno': 50, 'funcName': 'create_directories', 'created': 1718659449.788982, 'msecs': 788.9819145202637, 'relativeCreated': 140308.97665023804, 'thread': 18308, 'threadName': 'MainThread', 'processName': 'MainProcess', 'process': 18292, 'message': 'Created directory: artifactsfor the file'}sctime]s:INFO:Created directory: artifactsfor the file]\n",
      "[{'name': 'textsummarizationLogger', 'msg': 'Created directory: artifacts/data_ingestionfor the file', 'args': (), 'levelname': 'INFO', 'levelno': 20, 'pathname': 'c:\\\\users\\\\vinay pattanashetti\\\\git_repos\\\\nlp-text-summarization\\\\nlp-text-summarization\\\\src\\\\textsummarization\\\\utils\\\\common.py', 'filename': 'common.py', 'module': 'common', 'exc_info': None, 'exc_text': None, 'stack_info': None, 'lineno': 50, 'funcName': 'create_directories', 'created': 1718659449.7894866, 'msecs': 789.4866466522217, 'relativeCreated': 140309.48138237, 'thread': 18308, 'threadName': 'MainThread', 'processName': 'MainProcess', 'process': 18292, 'message': 'Created directory: artifacts/data_ingestionfor the file'}sctime]s:INFO:Created directory: artifacts/data_ingestionfor the file]\n",
      "[{'name': 'textsummarizationLogger', 'msg': 'artifacts/data_ingestion/data.zipdownload! with following info \\nConnection: close\\nContent-Length: 8399645\\nCache-Control: max-age=300\\nContent-Security-Policy: default-src \\'none\\'; style-src \\'unsafe-inline\\'; sandbox\\nContent-Type: application/zip\\nETag: \"d3e4f7b6fabf383cb15793a146769318870ece22d7b796cfa4f8db733c3f0541\"\\nStrict-Transport-Security: max-age=31536000\\nX-Content-Type-Options: nosniff\\nX-Frame-Options: deny\\nX-XSS-Protection: 1; mode=block\\nX-GitHub-Request-Id: 750D:2B5B6B:7168B:924C2:6670A97A\\nAccept-Ranges: bytes\\nDate: Mon, 17 Jun 2024 21:24:12 GMT\\nVia: 1.1 varnish\\nX-Served-By: cache-maa10243-MAA\\nX-Cache: MISS\\nX-Cache-Hits: 0\\nX-Timer: S1718659451.205980,VS0,VE803\\nVary: Authorization,Accept-Encoding,Origin\\nAccess-Control-Allow-Origin: *\\nCross-Origin-Resource-Policy: cross-origin\\nX-Fastly-Request-ID: 84adfb42a5db1e6de30504c97b17d0cd650fa358\\nExpires: Mon, 17 Jun 2024 21:29:12 GMT\\nSource-Age: 0\\n\\n', 'args': (), 'levelname': 'INFO', 'levelno': 20, 'pathname': 'C:\\\\Users\\\\Vinay Pattanashetti\\\\AppData\\\\Local\\\\Temp\\\\ipykernel_18292\\\\2513869242.py', 'filename': '2513869242.py', 'module': '2513869242', 'exc_info': None, 'exc_text': None, 'stack_info': None, 'lineno': 11, 'funcName': 'download_file', 'created': 1718659453.7197714, 'msecs': 719.7713851928711, 'relativeCreated': 144239.76612091064, 'thread': 18308, 'threadName': 'MainThread', 'processName': 'MainProcess', 'process': 18292, 'message': 'artifacts/data_ingestion/data.zipdownload! with following info \\nConnection: close\\nContent-Length: 8399645\\nCache-Control: max-age=300\\nContent-Security-Policy: default-src \\'none\\'; style-src \\'unsafe-inline\\'; sandbox\\nContent-Type: application/zip\\nETag: \"d3e4f7b6fabf383cb15793a146769318870ece22d7b796cfa4f8db733c3f0541\"\\nStrict-Transport-Security: max-age=31536000\\nX-Content-Type-Options: nosniff\\nX-Frame-Options: deny\\nX-XSS-Protection: 1; mode=block\\nX-GitHub-Request-Id: 750D:2B5B6B:7168B:924C2:6670A97A\\nAccept-Ranges: bytes\\nDate: Mon, 17 Jun 2024 21:24:12 GMT\\nVia: 1.1 varnish\\nX-Served-By: cache-maa10243-MAA\\nX-Cache: MISS\\nX-Cache-Hits: 0\\nX-Timer: S1718659451.205980,VS0,VE803\\nVary: Authorization,Accept-Encoding,Origin\\nAccess-Control-Allow-Origin: *\\nCross-Origin-Resource-Policy: cross-origin\\nX-Fastly-Request-ID: 84adfb42a5db1e6de30504c97b17d0cd650fa358\\nExpires: Mon, 17 Jun 2024 21:29:12 GMT\\nSource-Age: 0\\n\\n'}sctime]s:INFO:artifacts/data_ingestion/data.zipdownload! with following info \n",
      "Connection: close\n",
      "Content-Length: 8399645\n",
      "Cache-Control: max-age=300\n",
      "Content-Security-Policy: default-src 'none'; style-src 'unsafe-inline'; sandbox\n",
      "Content-Type: application/zip\n",
      "ETag: \"d3e4f7b6fabf383cb15793a146769318870ece22d7b796cfa4f8db733c3f0541\"\n",
      "Strict-Transport-Security: max-age=31536000\n",
      "X-Content-Type-Options: nosniff\n",
      "X-Frame-Options: deny\n",
      "X-XSS-Protection: 1; mode=block\n",
      "X-GitHub-Request-Id: 750D:2B5B6B:7168B:924C2:6670A97A\n",
      "Accept-Ranges: bytes\n",
      "Date: Mon, 17 Jun 2024 21:24:12 GMT\n",
      "Via: 1.1 varnish\n",
      "X-Served-By: cache-maa10243-MAA\n",
      "X-Cache: MISS\n",
      "X-Cache-Hits: 0\n",
      "X-Timer: S1718659451.205980,VS0,VE803\n",
      "Vary: Authorization,Accept-Encoding,Origin\n",
      "Access-Control-Allow-Origin: *\n",
      "Cross-Origin-Resource-Policy: cross-origin\n",
      "X-Fastly-Request-ID: 84adfb42a5db1e6de30504c97b17d0cd650fa358\n",
      "Expires: Mon, 17 Jun 2024 21:29:12 GMT\n",
      "Source-Age: 0\n",
      "\n",
      "]\n"
     ]
    }
   ],
   "source": [
    "# File handling\n",
    "# if __name__ == '__main__':\n",
    "    try:\n",
    "        config = ConfigurationManager()\n",
    "        data_ingestion_config = config.get_data_ingestion_config()\n",
    "        data_ingestion = DataIngestion(config=data_ingestion_config)\n",
    "        data_ingestion.download_file()\n",
    "        data_ingestion.extract_zip_file()\n",
    "    except Exception as e:\n",
    "        raise e"
   ]
  }
 ],
 "metadata": {
  "kernelspec": {
   "display_name": "cds-datamites",
   "language": "python",
   "name": "python3"
  },
  "language_info": {
   "codemirror_mode": {
    "name": "ipython",
    "version": 3
   },
   "file_extension": ".py",
   "mimetype": "text/x-python",
   "name": "python",
   "nbconvert_exporter": "python",
   "pygments_lexer": "ipython3",
   "version": "3.9.16"
  }
 },
 "nbformat": 4,
 "nbformat_minor": 2
}
